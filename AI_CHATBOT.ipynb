{
 "cells": [
  {
   "cell_type": "code",
   "execution_count": null,
   "id": "61af4608",
   "metadata": {},
   "outputs": [],
   "source": [
    "import numpy as np\n",
    "import nltk\n",
    "import string\n",
    "import random\n",
    "\n",
    "f=open('data.txt','r',errors='ignore')\n",
    "raw_doc=f.read()\n",
    "\n",
    "raw_doc=raw_doc.lower()\n",
    "nltk.download('punkt')\n",
    "nltk.download('wordnet')\n",
    "nltk.download('omw-1.4')\n",
    "sentence_tokens=nltk.sent_tokenize(raw_doc)\n",
    "word_tokens=nltk.word_tokenize(raw_doc)\n",
    "\n",
    "lemmer=nltk.stem.WordNetLemmatizer()\n",
    "def LemTokens(tokens):\n",
    "    return [lemmer.lemmatize(token) for token in tokens]\n",
    "remove_punc_dict=dict((ord(punct),None) for punct in string.punctuation)\n",
    "def LemNormalize(text):\n",
    "    return LemTokens(nltk.word_tokenize(text.lower().translate(remove_punc_dict)))"
   ]
  },
  {
   "cell_type": "code",
   "execution_count": null,
   "id": "f18cbfcf",
   "metadata": {},
   "outputs": [],
   "source": [
    "greet_inputs=('hello','hi','whassup')\n",
    "greet_responses=('hi','Hey','Hey There!','There There!')\n",
    "def greet(sentence):\n",
    "    for word in sentence.split():\n",
    "        if word.lower() in greet_inputs:\n",
    "            return random.choice(greet_responses)"
   ]
  },
  {
   "cell_type": "code",
   "execution_count": null,
   "id": "a316e9eb",
   "metadata": {},
   "outputs": [],
   "source": [
    "from sklearn.feature_extraction.text import TfidfVectorizer\n",
    "from sklearn.metrics.pairwise import cosine_similarity\n",
    "\n",
    "def response(user_response):\n",
    "    robo1_response=\"\"\n",
    "    TfidfVec=TfidfVectorizer(tokenizer=LemNormalize,stop_words='english')\n",
    "    tfidf=TfidfVec.fit_transform(sentence_tokens)\n",
    "    vals=cosine_similarity(tfidf[-1],tfidf)\n",
    "    idx=vals.argsort()[0][-2]\n",
    "    flat=vals.flatten()\n",
    "    flat.sort()\n",
    "    req_tfidf=flat[-2]\n",
    "    if (req_tfidf==0):\n",
    "        robo1_response=robo1_response+\"I am sorry. Unable to understand you!\"\n",
    "        return robo1_response\n",
    "    else:\n",
    "        robo1_response=robo1_response+sentence_tokens[idx]\n",
    "        return robo1_response"
   ]
  },
  {
   "cell_type": "markdown",
   "id": "00e31fd9",
   "metadata": {},
   "source": [
    "# Defining the chat flow"
   ]
  },
  {
   "cell_type": "code",
   "execution_count": null,
   "id": "0b3fb212",
   "metadata": {},
   "outputs": [],
   "source": [
    "flag=True\n",
    "print(\"Hello! I am SeekDeep. Start typing your text after greeting to talk to me. For ending the conversation, type bye!\")\n",
    "while(flag==True):\n",
    "    user_response=input()\n",
    "    user_response=user_response.lower()\n",
    "    if (user_response!='bye'):\n",
    "        if (user_response=='thank you' or user_response=='thanks'or user_response=='thankyou'):\n",
    "            flag=False\n",
    "            print(\"SeekDeep: You are welcome...\")\n",
    "        else:\n",
    "            if (greet(user_response)!=None):\n",
    "                print(\"SeekDeep: \"+greet(user_response))\n",
    "            else:\n",
    "                sentence_tokens.append(user_response)\n",
    "                word_tokens=word_tokens+nltk.word_tokenize(user_response)\n",
    "                final_words=list(set(word_tokens))\n",
    "                print(\"SeekDeep: \",end='')\n",
    "                print(response(user_response))\n",
    "                sentence_tokens.remove(user_response)\n",
    "    else:\n",
    "        flag=False\n",
    "        print(\"SeekDeep: Goodbye!\")"
   ]
  }
 ],
 "metadata": {
  "kernelspec": {
   "display_name": "Python 3 (ipykernel)",
   "language": "python",
   "name": "python3"
  },
  "language_info": {
   "codemirror_mode": {
    "name": "ipython",
    "version": 3
   },
   "file_extension": ".py",
   "mimetype": "text/x-python",
   "name": "python",
   "nbconvert_exporter": "python",
   "pygments_lexer": "ipython3",
   "version": "3.10.9"
  }
 },
 "nbformat": 4,
 "nbformat_minor": 5
}
